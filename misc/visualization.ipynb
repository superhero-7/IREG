{
 "cells": [
  {
   "cell_type": "code",
   "execution_count": null,
   "metadata": {},
   "outputs": [],
   "source": [
    "import sys\n",
    "sys.path.insert(0, '/share/project/yfl/codebase/git/ireg/src')\n",
    "from pathlib import Path\n",
    "from eval_utils.refcoco_utils import REFER\n",
    "import json\n",
    "from ipywidgets import interact,fixed\n",
    "import matplotlib.pyplot as plt\n",
    "from matplotlib.collections import PatchCollection\n",
    "from matplotlib.patches import Polygon, Rectangle\n",
    "import os.path as osp\n",
    "import skimage.io as io\n",
    "import cv2\n",
    "import os"
   ]
  },
  {
   "attachments": {},
   "cell_type": "markdown",
   "metadata": {},
   "source": [
    "# Refer Dataset Tool"
   ]
  },
  {
   "cell_type": "code",
   "execution_count": null,
   "metadata": {
    "pycharm": {
     "name": "#%%\n"
    }
   },
   "outputs": [],
   "source": [
    "refcoco_dir = Path('/share/project/yfl/database/REG_DATA/RefCOCO')\n",
    "img_dir = Path('/share/project/yfl/database/REG_DATA/train2014/imgs')\n",
    "\n",
    "dataset = 'refcoco+'\n",
    "refcoco_dir = osp.join(refcoco_dir, dataset)\n",
    "split_map = {'refcoco': 'unc', 'refcoco+': 'unc', 'refcocog': 'umd'}\n",
    "refer = REFER(dataset=dataset,splitBy=split_map[dataset], img_dir=img_dir, ref_dir=refcoco_dir)"
   ]
  },
  {
   "attachments": {},
   "cell_type": "markdown",
   "metadata": {},
   "source": [
    "## Visualization for Comparing"
   ]
  },
  {
   "cell_type": "code",
   "execution_count": null,
   "metadata": {},
   "outputs": [],
   "source": [
    "# 加载并过滤ireg的数据\n",
    "with open('/share/project/yfl/codebase/git/ireg/misc/generated_results/IREG/refcoco+/Dialog_LAST/testB/testBresult.json', 'r') as fn:\n",
    "    ireg = json.load(fn)\n",
    "\n",
    "total = len(ireg)\n",
    "cider = 0.\n",
    "ofa_acc = 0.\n",
    "original_cider = 0.\n",
    "original_ofa_acc = 0.\n",
    "ireg_filter_data = []\n",
    "for itum in ireg:\n",
    "    for i in range(5):\n",
    "        last = itum['dialog_generate_sent_ofa_iou'][i]\n",
    "        if i+1==5 or itum['dialog_generate_sent_ofa_iou'][i+1]==-1:\n",
    "            break\n",
    "    if last >  itum['dialog_generate_sent_ofa_iou'][0]:\n",
    "        cider += itum['cider']\n",
    "        ofa_acc += itum['last_round_ofa_iou']\n",
    "        ireg_filter_data.append(itum)\n",
    "    else:\n",
    "        cider += itum['cider_first_round']\n",
    "        ofa_acc += 1 if itum['dialog_generate_sent_ofa_iou'][0] else 0\n",
    "    original_cider += itum['cider']\n",
    "    original_ofa_acc += itum['last_round_ofa_iou']\n",
    "\n",
    "print(cider/total, original_cider/total, ofa_acc/total, original_ofa_acc/total)"
   ]
  },
  {
   "cell_type": "code",
   "execution_count": null,
   "metadata": {},
   "outputs": [],
   "source": [
    "ireg_filter_data"
   ]
  },
  {
   "cell_type": "code",
   "execution_count": null,
   "metadata": {},
   "outputs": [],
   "source": [
    "with open('/share/project/yfl/codebase/git/ireg/misc/generated_results/referwhat/refcoco+/eval/pred_testB_2.json', 'r') as fn:\n",
    "    d = json.load(fn)\n",
    "\n",
    "\n",
    "referwhat = {}\n",
    "for k,v in d.items():\n",
    "    referwhat[k] = v['dialog']"
   ]
  },
  {
   "cell_type": "code",
   "execution_count": null,
   "metadata": {},
   "outputs": [],
   "source": [
    "with open('/share/project/yfl/codebase/git/ireg/misc/generated_results/referwhat/refcoco+/eval/pred_testB_2.json', 'r') as fn:\n",
    "    d2 = json.load(fn)\n",
    "d2"
   ]
  },
  {
   "cell_type": "code",
   "execution_count": null,
   "metadata": {},
   "outputs": [],
   "source": [
    "referwhat"
   ]
  },
  {
   "cell_type": "code",
   "execution_count": null,
   "metadata": {},
   "outputs": [],
   "source": [
    "def draw_gen_text_for_dialog(ireg_data, referwhat_data, index):\n",
    "    ref_id = ireg_data[index]['ref_id']\n",
    "    ref = refer.Refs[ref_id]\n",
    "    image = refer.Imgs[ref['image_id']]\n",
    "    if 'train2014' in image['file_name']:\n",
    "        img_path = os.path.join('/share/project/yfl/database/REG_DATA/train2014/imgs', image['file_name'])\n",
    "    else:\n",
    "        img_path = os.path.join('/share/project/yfl/database/REG_DATA/train2014/imgs', image['file_name'])\n",
    "    img = cv2.imread(img_path)\n",
    "    # ground truth\n",
    "    ref_box = refer.refToAnn[ref_id]['bbox']\n",
    "    ref_box = [int(x) for x in ref_box]\n",
    "    cv2.rectangle(img, (ref_box[0],ref_box[1]), (ref_box[0]+ref_box[2],ref_box[1]+ref_box[3]), (0,255,0), 4)\n",
    "    img = img[:,:,::-1]\n",
    "    plt.figure(dpi=150)\n",
    "    plt.imshow(img)\n",
    "    plt.show()\n",
    "    print(\"=======================IREG========================\")\n",
    "    for k,v in ireg_data[index].items():\n",
    "        print(\"{} : {}\".format(k,v))\n",
    "    print(\"=======================Referwhat====================\")\n",
    "    print(referwhat_data[str(ref['ann_id'])])\n",
    "    print(\"=======================GT REs====================\")\n",
    "    for i, s in enumerate(ref['sentences']):\n",
    "        print(f'ref_{i}: {s[\"raw\"]}')\n",
    "    print(f'ref_id: {ref_id}')\n",
    "    print(image['file_name'])"
   ]
  },
  {
   "cell_type": "code",
   "execution_count": null,
   "metadata": {},
   "outputs": [],
   "source": [
    "len(ireg_filter_data)"
   ]
  },
  {
   "cell_type": "code",
   "execution_count": null,
   "metadata": {},
   "outputs": [],
   "source": [
    "interact(draw_gen_text_for_dialog, ireg_data=fixed(ireg), referwhat_data=fixed(referwhat), index=list(range(300)))"
   ]
  },
  {
   "cell_type": "code",
   "execution_count": null,
   "metadata": {},
   "outputs": [],
   "source": [
    "refcoco_dir = Path('/share/project/yfl/database/REG_DATA/RefCOCO')\n",
    "img_dir = Path('/share/project/yfl/database/REG_DATA/train2014/imgs')\n",
    "\n",
    "dataset = 'refcocog'\n",
    "refcoco_dir = osp.join(refcoco_dir, dataset)\n",
    "split_map = {'refcoco': 'unc', 'refcoco+': 'unc', 'refcocog': 'umd'}\n",
    "refer2 = REFER(dataset=dataset,splitBy=split_map[dataset], img_dir=img_dir, ref_dir=refcoco_dir)\n",
    "\n",
    "_ = refer2.getRefIds(split='train')\n",
    "len(_)"
   ]
  },
  {
   "cell_type": "code",
   "execution_count": null,
   "metadata": {},
   "outputs": [],
   "source": [
    "with open('/share/project/yfl/codebase/git/ireg/misc/ireg_data_collection/vlt5_ofa_scst_combine_clamp_mmi_refcocog_train_bad_sents.json', 'r' ) as fn:\n",
    "    bad_sent =json.load(fn)"
   ]
  },
  {
   "cell_type": "code",
   "execution_count": null,
   "metadata": {},
   "outputs": [],
   "source": [
    "ref_ids_set = set()\n",
    "for itum in bad_sent:\n",
    "    ref_ids_set.add(itum['ref_id'])"
   ]
  },
  {
   "cell_type": "code",
   "execution_count": null,
   "metadata": {},
   "outputs": [],
   "source": [
    "len(ref_ids_set)"
   ]
  },
  {
   "attachments": {},
   "cell_type": "markdown",
   "metadata": {},
   "source": [
    "# Statistic for Dialog"
   ]
  },
  {
   "cell_type": "code",
   "execution_count": null,
   "metadata": {},
   "outputs": [],
   "source": [
    "with open('../generate_result/refcoco+/vlt5_ofa_mmi_scst_combine_dialog_sp_training_threshold_0.5/testB/Noname.json', 'r') as f:\n",
    "    datum = json.load(f)\n",
    "    \n",
    "one_round_datum = []\n",
    "two_round_datum = []\n",
    "\n",
    "for item in datum:\n",
    "    if item['dialog_generate_sent'][1] == \"\":\n",
    "        one_round_datum.append(item)\n",
    "    else:\n",
    "        two_round_datum.append(item)\n",
    "        \n",
    "iou_up = []\n",
    "iou_down = []\n",
    "\n",
    "cider_up = []\n",
    "cider_down = []\n",
    "\n",
    "iou_up_cider_down = []\n",
    "iou_up_cider_up = []\n",
    "\n",
    "for item in two_round_datum:\n",
    "    if item['dialog_generate_sent_ofa_iou'][1] >= item['dialog_generate_sent_ofa_iou'][0]:\n",
    "        iou_up.append(item)\n",
    "    else:\n",
    "        iou_down.append(item)\n",
    "        \n",
    "    if item['cider'] >= item['cider_first_round']:\n",
    "        cider_up.append(item)\n",
    "    else:\n",
    "        cider_down.append(item)\n",
    "        \n",
    "    if item['dialog_generate_sent_ofa_iou'][1] >= item['dialog_generate_sent_ofa_iou'][0] and item['cider'] < item['cider_first_round']:\n",
    "        iou_up_cider_down.append(item)\n",
    "    elif item['dialog_generate_sent_ofa_iou'][1] >= item['dialog_generate_sent_ofa_iou'][0] and item['cider'] >= item['cider_first_round']:\n",
    "        iou_up_cider_up.append(item)"
   ]
  },
  {
   "cell_type": "code",
   "execution_count": null,
   "metadata": {},
   "outputs": [],
   "source": [
    "len(one_round_datum), len(two_round_datum), len(iou_up), len(cider_up), len(iou_up_cider_down)"
   ]
  },
  {
   "cell_type": "code",
   "execution_count": null,
   "metadata": {},
   "outputs": [],
   "source": [
    "# Do Some statistical work\n",
    "\n",
    "cider_first_round = 0\n",
    "cider_second_round = 0\n",
    "\n",
    "iou_first_round = 0\n",
    "iou_second_round = 0\n",
    "\n",
    "coverage_cnt = 0\n",
    "total_cnt = 0\n",
    "\n",
    "first_sent_length = 0\n",
    "second_sent_length = 0\n",
    "\n",
    "\n",
    "for item in two_round_datum:\n",
    "    cider_first_round += item['cider_first_round']\n",
    "    cider_second_round += item['cider']\n",
    "    \n",
    "    iou_first_round += item['dialog_generate_sent_ofa_iou'][0]\n",
    "    iou_second_round += item['dialog_generate_sent_ofa_iou'][1]\n",
    "    \n",
    "    first_sent = item['dialog_generate_sent'][0].split(\" \")\n",
    "    second_sent = item['dialog_generate_sent'][1].split(\" \")\n",
    "    \n",
    "    first_sent_length += len(first_sent)\n",
    "    second_sent_length += len(second_sent)\n",
    "    \n",
    "    for word in first_sent:\n",
    "        if word in second_sent:\n",
    "            coverage_cnt += 1\n",
    "    total_cnt += len(first_sent)\n",
    "\n",
    "n = len(two_round_datum)\n",
    "cider_first_round/n,cider_second_round/n,iou_first_round/n,iou_second_round/n,coverage_cnt/total_cnt, first_sent_length/n, second_sent_length/n"
   ]
  },
  {
   "cell_type": "code",
   "execution_count": null,
   "metadata": {},
   "outputs": [],
   "source": [
    "cider_everage = 0\n",
    "iou_everage = 0\n",
    "for item in one_round_datum:\n",
    "    \n",
    "    cider_everage += item['cider']\n",
    "    iou_everage += item['dialog_generate_sent_ofa_iou'][0]\n",
    "m = len(one_round_datum)\n",
    "cider_everage/m,iou_everage/m"
   ]
  },
  {
   "attachments": {},
   "cell_type": "markdown",
   "metadata": {},
   "source": [
    "# Visualization For Dialog"
   ]
  },
  {
   "cell_type": "code",
   "execution_count": null,
   "metadata": {},
   "outputs": [],
   "source": [
    "# file_names = {\n",
    "#     \"epoch_BEST_last_round\",\n",
    "#     \"epoch_BEST_dialog_result\",\n",
    "#     \"epoch_BEST\",\n",
    "# }\n",
    "\n",
    "# data = {}\n",
    "# for file_name in file_names:\n",
    "#     with open('./generate_result/refcoco+/vlt5_ofa_dialog/testB/'+ file_name+'.json','r') as f:\n",
    "#         data[file_name] = json.load(f)\n",
    "data = {}\n",
    "reg_file_names = {\n",
    "    \"epoch_BEST_last_round\",\n",
    "    \"epoch_BEST_dialog_result\",\n",
    "    \"epoch_BEST\",\n",
    "    \"epoch_BEST_zero_shot_result\",\n",
    "    \"epoch_19\",\n",
    "    \"epoch_19_lr_5e-05\",\n",
    "}\n",
    "for file_name in reg_file_names:\n",
    "    with open('./generate_result/refcoco+/REG/testB/'+file_name+'.json','r') as f:\n",
    "        key = 'REG_'+file_name\n",
    "        data[key] = json.load(f)"
   ]
  },
  {
   "cell_type": "code",
   "execution_count": null,
   "metadata": {},
   "outputs": [],
   "source": [
    "path = '../generate_result/refcoco+/vlt5_ofa_dialog_sp_training_one_model_with_task1/testB/best_epoch.json'\n",
    "with open(path, 'r') as f:\n",
    "    data = json.load(f)"
   ]
  },
  {
   "cell_type": "code",
   "execution_count": null,
   "metadata": {},
   "outputs": [],
   "source": [
    "import sys\n",
    "import os.path as osp\n",
    "\n",
    "if osp.join('/raid_sda/yfl/codebase/VL-T5-REG/VL-T5/src/', 'refer2/evaluation') not in sys.path:\n",
    "    sys.path.insert(0, osp.join('/raid_sda/yfl/codebase/VL-T5-REG/VL-T5/src/', 'refer2/evaluation'))\n",
    "    \n",
    "from refEvaluation import RefEvaluation\n",
    "\n",
    "\n",
    "first_round_pred = []\n",
    "for i, item in enumerate(data):\n",
    "    first_round_pred.append(\n",
    "        {\n",
    "            'ref_id': item['ref_id'],\n",
    "            'sent': item['dialog_generate_sent'][0],\n",
    "        }\n",
    "    )\n",
    "\n",
    "evaluator_first_round = RefEvaluation(refer, first_round_pred)\n",
    "result = {}\n",
    "CIDEr_sc_first_round, CIDEr_scs_first_round, METEOR_sc_first_round, METEOR_scs_first_round = evaluator_first_round.evaluate()\n",
    "result['CIDEr_first_round'] = CIDEr_sc_first_round\n",
    "result['CIDErs_first_round'] = CIDEr_scs_first_round\n",
    "result['METEOR_first_round'] = METEOR_sc_first_round\n",
    "result['METEORs_first_round'] = METEOR_scs_first_round\n",
    "for i, item in enumerate(data):\n",
    "    item['cider_first_round'] = result['CIDErs_first_round'][i]\n",
    "    item['meteor_first_round'] = result['METEORs_first_round'][i]"
   ]
  },
  {
   "cell_type": "code",
   "execution_count": null,
   "metadata": {},
   "outputs": [],
   "source": [
    "pred = []\n",
    "for i, item in enumerate(data):\n",
    "    first_round_pred.append(\n",
    "        {\n",
    "            'ref_id': item['ref_id'],\n",
    "            'sent': item['sent'],\n",
    "        }\n",
    "    )\n",
    "\n",
    "evaluator_first_round = RefEvaluation(refer, first_round_pred)\n",
    "evaluator_first_round.evaluate()"
   ]
  },
  {
   "cell_type": "code",
   "execution_count": null,
   "metadata": {},
   "outputs": [],
   "source": [
    "data"
   ]
  },
  {
   "cell_type": "code",
   "execution_count": null,
   "metadata": {},
   "outputs": [],
   "source": [
    "round2 = []\n",
    "for index,item in enumerate(data):\n",
    "    if data[index]['dialog_generate_sent_ofa_iou'][1] != -1:\n",
    "        round2.append(item)\n",
    "        \n",
    "print(len(data),len(round2))\n",
    "\n",
    "up_up = 0\n",
    "up_down = 0\n",
    "down_up = 0\n",
    "down_down = 0\n",
    "equal = 0\n",
    "for item in round2:\n",
    "    iou = item['dialog_generate_sent_ofa_iou']\n",
    "    cider = item['cider']\n",
    "    cider_first_round = item['cider_first_round']\n",
    "    if iou[1] > iou[0] and cider>cider_first_round:\n",
    "        up_up += 1\n",
    "    if iou[1] > iou[0] and cider<cider_first_round:\n",
    "        up_down += 1\n",
    "    if iou[1] < iou[0] and cider>cider_first_round:\n",
    "        down_up += 1\n",
    "    if iou[1] < iou[0] and cider<cider_first_round:\n",
    "        down_down += 1\n",
    "        \n",
    "    if iou[1] == iou[0] and cider==cider_first_round:\n",
    "        equal += 1\n",
    "up_up,up_down,down_up,down_down,equal"
   ]
  },
  {
   "cell_type": "code",
   "execution_count": null,
   "metadata": {},
   "outputs": [],
   "source": [
    "with open('/raid_sda/yfl/codebase/VL-T5-REG/VL-T5/src/generate_result/refcoco+/2022.10.19/testA/epoch13.json', 'r') as f:\n",
    "    data = json.load(f)"
   ]
  },
  {
   "cell_type": "code",
   "execution_count": null,
   "metadata": {},
   "outputs": [],
   "source": [
    "# The format of data is: \n",
    "#                         [{'refid':...,\n",
    "#                          'dialog_generate_sent':...,\n",
    "#                          ...\n",
    "#                          },\n",
    "#                          ...\n",
    "#                         ]\n",
    "\n",
    "def draw_gen_text_for_dialog(data, index):\n",
    "    ref_id = data[index]['ref_id']\n",
    "    ref = refer.Refs[ref_id]\n",
    "    image = refer.Imgs[ref['image_id']]\n",
    "    if 'train2014' in image['file_name']:\n",
    "        img_path = os.path.join('/raid_sda/yfl/datasets/train2014', image['file_name'])\n",
    "    else:\n",
    "        img_path = os.path.join('/raid_sda/yfl/datasets/val2014', image['file_name'])\n",
    "    img = cv2.imread(img_path)\n",
    "    # ground truth\n",
    "    ref_box = refer.refToAnn[ref_id]['bbox']\n",
    "    ref_box = [int(x) for x in ref_box]\n",
    "    cv2.rectangle(img, (ref_box[0],ref_box[1]), (ref_box[0]+ref_box[2],ref_box[1]+ref_box[3]), (0,255,0), 4)\n",
    "    img = img[:,:,::-1]\n",
    "    plt.figure(dpi=150)\n",
    "    plt.imshow(img)\n",
    "    plt.show()\n",
    "    print(\"First round generate sent:{}\".format(data[index]['dialog_generate_sent'][0]))\n",
    "    print(\"First round cider:{:.3f} meteor:{:.3f} iou:{:.3f}\".format(data[index]['cider_first_round'], data[index]['meteor_first_round'], data[index]['dialog_generate_sent_ofa_iou'][0]))\n",
    "    print(\"Second round generate sent:{}\".format(data[index]['sent']))\n",
    "    print(\"Second round cider:{:.3f} meteor:{:.3f} iou:{:.3f}\".format(data[index]['cider'], data[index]['meteor'], \n",
    "          data[index]['dialog_generate_sent_ofa_iou'][1]))\n",
    "    for i, s in enumerate(ref['sentences']):\n",
    "        print(f'ref_{i}: {s[\"raw\"]}')\n",
    "    print(f'ref_id: {ref_id}')\n",
    "    print(image['file_name'])"
   ]
  },
  {
   "cell_type": "code",
   "execution_count": null,
   "metadata": {},
   "outputs": [],
   "source": [
    "round2 = []\n",
    "for index,item in enumerate(data):\n",
    "    if data[index]['dialog_generate_sent_ofa_iou'][1] != -1:\n",
    "        round2.append(item)"
   ]
  },
  {
   "cell_type": "code",
   "execution_count": null,
   "metadata": {},
   "outputs": [],
   "source": [
    "interact(draw_gen_text_for_dialog, data=fixed(round2), index=list(range(100)))"
   ]
  },
  {
   "attachments": {},
   "cell_type": "markdown",
   "metadata": {},
   "source": [
    "# Statistic for Bad sent"
   ]
  },
  {
   "cell_type": "code",
   "execution_count": null,
   "metadata": {},
   "outputs": [],
   "source": [
    "file_name = 'REG_mmi_refcocog_vlt5_bad_sent_threshold_0.5_with_bbox_val.json'\n",
    "with open(file_name, 'r') as f:\n",
    "    data = json.load(f)\n",
    "    \n",
    "len(data)"
   ]
  },
  {
   "cell_type": "code",
   "execution_count": null,
   "metadata": {},
   "outputs": [],
   "source": [
    "ref_ids = []\n",
    "refid2sent = {}\n",
    "refid2box = {}\n",
    "ids = set()\n",
    "for item in data:\n",
    "    ids.add(int(item['ref_id']))\n",
    "    ref_ids.append(int(item['ref_id']))\n",
    "    refid2sent[int(item['ref_id'])] = item['sent']\n",
    "    refid2box[int(item['ref_id'])] = item['bbox']"
   ]
  },
  {
   "attachments": {},
   "cell_type": "markdown",
   "metadata": {},
   "source": [
    "# Visualization for Bad sent"
   ]
  },
  {
   "cell_type": "code",
   "execution_count": null,
   "metadata": {},
   "outputs": [],
   "source": [
    "file_name = './new_generate_sent_set/vlt5_reg/refcoco/vlt5_reg_refcoco_bad_sent_threshold_0.5_with_bbox_testA.json'\n",
    "with open(file_name, 'r') as f:\n",
    "    data = json.load(f)\n",
    "    \n",
    "def draw(data, index):\n",
    "    item = data[index]\n",
    "    ref_id = item['ref_id']\n",
    "    sent = item['sent']\n",
    "    ofa_bbox = item['bbox']\n",
    "    \n",
    "    ref = refer.Refs[ref_id]\n",
    "    image = refer.Imgs[ref['image_id']]\n",
    "    if 'train2014' in image['file_name']:\n",
    "        img_path = os.path.join('/raid_sda/yfl/datasets/train2014', image['file_name'])\n",
    "    else:\n",
    "        img_path = os.path.join('/raid_sda/yfl/datasets/val2014', image['file_name'])\n",
    "    img = cv2.imread(img_path)\n",
    "    # ground truth\n",
    "    ref_box = refer.refToAnn[ref_id]['bbox']\n",
    "    ref_box = [int(x) for x in ref_box]\n",
    "    cv2.rectangle(img, (ref_box[0],ref_box[1]), (ref_box[0]+ref_box[2],ref_box[1]+ref_box[3]), (0,255,0), 4)\n",
    "    cv2.rectangle(img, (int(ofa_bbox[0]),int(ofa_bbox[1])), (int(ofa_bbox[2]),int(ofa_bbox[3])), (0,0,255), 4)\n",
    "    img = img[:,:,::-1]\n",
    "    plt.figure(dpi=150)\n",
    "    plt.imshow(img)\n",
    "    plt.show()\n",
    "    print(\"Generate Sentence:  {}\".format(sent))\n",
    "    print(\"GT Sentence:\")\n",
    "    for i, s in enumerate(ref['sentences']):\n",
    "        print(f'\\t ref_{i}: {s[\"raw\"]}')\n",
    "    print(f'\\nref_id: {ref_id}')\n",
    "    print(image['file_name'])    "
   ]
  },
  {
   "cell_type": "code",
   "execution_count": null,
   "metadata": {},
   "outputs": [],
   "source": [
    "interact(draw, data=fixed(data), index=list(range(100)))"
   ]
  },
  {
   "cell_type": "code",
   "execution_count": null,
   "metadata": {},
   "outputs": [],
   "source": [
    "file_name = './new_generate_sent_set/vlt5_reg/refcoco+/vlt5_reg_refcoco+_bad_sent_threshold_0.5_with_bbox.json'\n",
    "with open(file_name, 'r') as f:\n",
    "    train_data = json.load(f)"
   ]
  },
  {
   "cell_type": "code",
   "execution_count": null,
   "metadata": {},
   "outputs": [],
   "source": [
    "interact(draw, data=fixed(train_data), index=list(range(100)))"
   ]
  },
  {
   "cell_type": "code",
   "execution_count": null,
   "metadata": {},
   "outputs": [],
   "source": [
    "file_name = './generate_sent_set/REG_mmi/refcoco+/REG_mmi_refcoco+_vlt5_good_sent_threshold_0.5_with_bbox.json'\n",
    "with open(file_name, 'r') as f:\n",
    "    good_data = json.load(f)"
   ]
  },
  {
   "attachments": {},
   "cell_type": "markdown",
   "metadata": {
    "pycharm": {
     "name": "#%%\n"
    }
   },
   "source": [
    "# Original visualization"
   ]
  },
  {
   "cell_type": "code",
   "execution_count": null,
   "metadata": {
    "pycharm": {
     "name": "#%%\n"
    }
   },
   "outputs": [],
   "source": [
    "def draw_gen_text(index):\n",
    "    ref_id = data[\"REG_epoch_BEST\"][index]['ref_id']\n",
    "    ref = refer.Refs[ref_id]\n",
    "    image = refer.Imgs[ref['image_id']]\n",
    "    if 'train2014' in image['file_name']:\n",
    "        img_path = os.path.join('/raid_sda/yfl/datasets/train2014', image['file_name'])\n",
    "    else:\n",
    "        img_path = os.path.join('/raid_sda/yfl/datasets/val2014', image['file_name'])\n",
    "    img = cv2.imread(img_path)\n",
    "    # ground truth\n",
    "    ref_box = refer.refToAnn[ref_id]['bbox']\n",
    "    ref_box = [int(x) for x in ref_box]\n",
    "    cv2.rectangle(img, (ref_box[0],ref_box[1]), (ref_box[0]+ref_box[2],ref_box[1]+ref_box[3]), (0,255,0), 4)\n",
    "    img = img[:,:,::-1]\n",
    "    plt.figure(dpi=150)\n",
    "    plt.imshow(img)\n",
    "    plt.show()\n",
    "    for file_name, d in data.items():\n",
    "        text = d[index]['sent']\n",
    "        print('{} gen:'.format(file_name), text)\n",
    "        print('cider:', data[file_name][index]['cider'])\n",
    "        print('meteor:', data[file_name][index]['meteor'])\n",
    "        print('--------------------------')\n",
    "    for i, s in enumerate(ref['sentences']):\n",
    "        print(f'ref_{i}: {s[\"raw\"]}')\n",
    "    print(f'ref_id: {ref_id}')\n",
    "    print(image['file_name'])"
   ]
  },
  {
   "cell_type": "code",
   "execution_count": null,
   "metadata": {
    "pycharm": {
     "is_executing": true,
     "name": "#%%\n"
    }
   },
   "outputs": [],
   "source": [
    "interact(draw_gen_text, index=list(range(len(data[\"REG_epoch_BEST\"]))))"
   ]
  },
  {
   "attachments": {},
   "cell_type": "markdown",
   "metadata": {},
   "source": [
    "# PalyGround for interact"
   ]
  },
  {
   "cell_type": "code",
   "execution_count": null,
   "metadata": {},
   "outputs": [],
   "source": [
    "def f(data,index):\n",
    "    return data[index]\n",
    "\n",
    "datum = [5,8,9,0]\n",
    "interact(f, data=fixed(datum), index=list(range(len(datum))))"
   ]
  },
  {
   "attachments": {},
   "cell_type": "markdown",
   "metadata": {},
   "source": [
    "# Some backup code"
   ]
  },
  {
   "cell_type": "code",
   "execution_count": null,
   "metadata": {},
   "outputs": [],
   "source": [
    "# Old refer visualization\n",
    "\n",
    "def draw_box_gen_text(index):\n",
    "    ref = refer.Refs[data[index]['ref_id']]\n",
    "    ax = plt.gca()\n",
    "    # show image\n",
    "    image = refer.Imgs[ref['image_id']]\n",
    "    I = io.imread(osp.join(refer.IMAGE_DIR, image['file_name']))\n",
    "    ax.imshow(I)\n",
    "    ann_id = ref['ann_id']\n",
    "    ann = refer.Anns[ann_id]\n",
    "    bbox = \trefer.getRefBox(ref['ref_id'])\n",
    "    box_plot = Rectangle((bbox[0], bbox[1]), bbox[2], bbox[3], fill=False, edgecolor='green', linewidth=3)\n",
    "    ax.add_patch(box_plot)\n",
    "\n",
    "\t# show refer expression\n",
    "    for sid, sent in enumerate(ref['sentences']):\n",
    "        print('%s. %s' % (sid+1, sent['sent']))\n",
    "\n",
    "    print('Gen RE: {}'.format(data[index]['sent']))"
   ]
  }
 ],
 "metadata": {
  "kernelspec": {
   "display_name": "vlt5-ofa",
   "language": "python",
   "name": "python3"
  },
  "language_info": {
   "codemirror_mode": {
    "name": "ipython",
    "version": 3
   },
   "file_extension": ".py",
   "mimetype": "text/x-python",
   "name": "python",
   "nbconvert_exporter": "python",
   "pygments_lexer": "ipython3",
   "version": "3.8.8"
  },
  "vscode": {
   "interpreter": {
    "hash": "3d0401cdc07ee26ddd56d2b50573bd181b924e8d4ee79bf0b5db92bf89f1b2b1"
   }
  }
 },
 "nbformat": 4,
 "nbformat_minor": 1
}
